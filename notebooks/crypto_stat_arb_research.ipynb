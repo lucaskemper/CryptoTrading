{
 "cells": [
  {
   "cell_type": "code",
   "execution_count": 3,
   "id": "59fc88d5",
   "metadata": {},
   "outputs": [
    {
     "name": "stderr",
     "output_type": "stream",
     "text": [
      "2025-07-13 16:05:29,663 - crypto_trading_bot - WARNING - Secrets file config/secrets.env not found\n",
      "2025-07-13 16:05:29,664 - crypto_trading_bot - WARNING - Config file config/config.yaml not found, using defaults\n",
      "2025-07-13 16:05:29,665 - crypto_trading_bot - WARNING - No API credentials for binance, using public endpoints only\n",
      "2025-07-13 16:05:29,671 - crypto_trading_bot - WARNING - No API credentials for kraken, using public endpoints only\n",
      "2025-07-13 16:05:29,677 - crypto_trading_bot - INFO - SQLite database initialized\n"
     ]
    },
    {
     "ename": "ImportError",
     "evalue": "cannot import name 'SentimentAnalyzer' from 'src.strategy.sentiment' (/Users/lucas/Documents/GitHub/CryptoTrading/src/strategy/sentiment.py)",
     "output_type": "error",
     "traceback": [
      "\u001b[31m---------------------------------------------------------------------------\u001b[39m",
      "\u001b[31mImportError\u001b[39m                               Traceback (most recent call last)",
      "\u001b[36mCell\u001b[39m\u001b[36m \u001b[39m\u001b[32mIn[3]\u001b[39m\u001b[32m, line 10\u001b[39m\n\u001b[32m      8\u001b[39m \u001b[38;5;28;01mfrom\u001b[39;00m\u001b[38;5;250m \u001b[39m\u001b[34;01msrc\u001b[39;00m\u001b[34;01m.\u001b[39;00m\u001b[34;01mdata_collector\u001b[39;00m\u001b[38;5;250m \u001b[39m\u001b[38;5;28;01mimport\u001b[39;00m data_collector, DataCollector, MarketData\n\u001b[32m      9\u001b[39m \u001b[38;5;28;01mfrom\u001b[39;00m\u001b[38;5;250m \u001b[39m\u001b[34;01msrc\u001b[39;00m\u001b[34;01m.\u001b[39;00m\u001b[34;01mstrategy\u001b[39;00m\u001b[34;01m.\u001b[39;00m\u001b[34;01mstat_arb\u001b[39;00m\u001b[38;5;250m \u001b[39m\u001b[38;5;28;01mimport\u001b[39;00m StatisticalArbitrage\n\u001b[32m---> \u001b[39m\u001b[32m10\u001b[39m \u001b[38;5;28;01mfrom\u001b[39;00m\u001b[38;5;250m \u001b[39m\u001b[34;01msrc\u001b[39;00m\u001b[34;01m.\u001b[39;00m\u001b[34;01mstrategy\u001b[39;00m\u001b[34;01m.\u001b[39;00m\u001b[34;01msentiment\u001b[39;00m\u001b[38;5;250m \u001b[39m\u001b[38;5;28;01mimport\u001b[39;00m SentimentAnalyzer\n\u001b[32m     11\u001b[39m \u001b[38;5;28;01mfrom\u001b[39;00m\u001b[38;5;250m \u001b[39m\u001b[34;01msrc\u001b[39;00m\u001b[34;01m.\u001b[39;00m\u001b[34;01mstrategy\u001b[39;00m\u001b[34;01m.\u001b[39;00m\u001b[34;01msignal_generator\u001b[39;00m\u001b[38;5;250m \u001b[39m\u001b[38;5;28;01mimport\u001b[39;00m SignalGenerator\n\u001b[32m     12\u001b[39m \u001b[38;5;28;01mfrom\u001b[39;00m\u001b[38;5;250m \u001b[39m\u001b[34;01msrc\u001b[39;00m\u001b[34;01m.\u001b[39;00m\u001b[34;01mstrategy\u001b[39;00m\u001b[34;01m.\u001b[39;00m\u001b[34;01mdata_integration\u001b[39;00m\u001b[38;5;250m \u001b[39m\u001b[38;5;28;01mimport\u001b[39;00m StrategyDataIntegration\n",
      "\u001b[31mImportError\u001b[39m: cannot import name 'SentimentAnalyzer' from 'src.strategy.sentiment' (/Users/lucas/Documents/GitHub/CryptoTrading/src/strategy/sentiment.py)"
     ]
    }
   ],
   "source": [
    "import sys\n",
    "import os\n",
    "\n",
    "project_root = os.path.abspath(os.path.join(os.getcwd(), '..'))  # If running from notebooks/\n",
    "if project_root not in sys.path:\n",
    "    sys.path.append(project_root)\n",
    "\n",
    "from src.data_collector import data_collector, DataCollector, MarketData\n",
    "from src.strategy.stat_arb import StatisticalArbitrage\n",
    "from src.strategy.sentiment import SentimentAnalyzer\n",
    "from src.strategy.signal_generator import SignalGenerator\n",
    "from src.strategy.data_integration import StrategyDataIntegration\n",
    "from src.execution.order_manager import OrderManager\n",
    "from src.execution.position_manager import PositionManager\n",
    "from src.execution.risk_manager import RiskManager\n",
    "from src.utils.logger import logger\n",
    "from src.utils.config_loader import config\n",
    "from src.utils.helpers import *"
   ]
  }
 ],
 "metadata": {
  "kernelspec": {
   "display_name": "venv",
   "language": "python",
   "name": "python3"
  },
  "language_info": {
   "codemirror_mode": {
    "name": "ipython",
    "version": 3
   },
   "file_extension": ".py",
   "mimetype": "text/x-python",
   "name": "python",
   "nbconvert_exporter": "python",
   "pygments_lexer": "ipython3",
   "version": "3.13.5"
  }
 },
 "nbformat": 4,
 "nbformat_minor": 5
}
